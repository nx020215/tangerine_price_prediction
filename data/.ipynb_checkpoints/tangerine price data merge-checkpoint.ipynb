{
 "cells": [
  {
   "cell_type": "code",
   "execution_count": 1,
   "id": "876c535f",
   "metadata": {},
   "outputs": [],
   "source": [
    "import pandas as pd"
   ]
  },
  {
   "cell_type": "code",
   "execution_count": 2,
   "id": "f5c1864c",
   "metadata": {},
   "outputs": [],
   "source": [
    "df1 = pd.read_excel(\"C:/tangerine_price_prediction/data_1(temp_day).xlsx\", engine=\"openpyxl\")"
   ]
  },
  {
   "cell_type": "code",
   "execution_count": 3,
   "id": "cea88d60",
   "metadata": {},
   "outputs": [],
   "source": [
    "df2 = pd.read_excel(\"C:/tangerine_price_prediction/data_2(avgPrice).xlsx\", engine=\"openpyxl\")"
   ]
  },
  {
   "cell_type": "code",
   "execution_count": 4,
   "id": "7963844a",
   "metadata": {},
   "outputs": [
    {
     "data": {
      "text/html": [
       "<div>\n",
       "<style scoped>\n",
       "    .dataframe tbody tr th:only-of-type {\n",
       "        vertical-align: middle;\n",
       "    }\n",
       "\n",
       "    .dataframe tbody tr th {\n",
       "        vertical-align: top;\n",
       "    }\n",
       "\n",
       "    .dataframe thead th {\n",
       "        text-align: right;\n",
       "    }\n",
       "</style>\n",
       "<table border=\"1\" class=\"dataframe\">\n",
       "  <thead>\n",
       "    <tr style=\"text-align: right;\">\n",
       "      <th></th>\n",
       "      <th>year</th>\n",
       "      <th>avgTemp</th>\n",
       "      <th>maxTemp</th>\n",
       "      <th>minTemp</th>\n",
       "      <th>rainFall</th>\n",
       "    </tr>\n",
       "  </thead>\n",
       "  <tbody>\n",
       "    <tr>\n",
       "      <th>3764</th>\n",
       "      <td>2023-04-23</td>\n",
       "      <td>15.3</td>\n",
       "      <td>18.8</td>\n",
       "      <td>13.1</td>\n",
       "      <td>NaN</td>\n",
       "    </tr>\n",
       "    <tr>\n",
       "      <th>3765</th>\n",
       "      <td>2023-04-24</td>\n",
       "      <td>13.8</td>\n",
       "      <td>15.4</td>\n",
       "      <td>12.0</td>\n",
       "      <td>2.2</td>\n",
       "    </tr>\n",
       "    <tr>\n",
       "      <th>3766</th>\n",
       "      <td>2023-04-25</td>\n",
       "      <td>12.9</td>\n",
       "      <td>13.9</td>\n",
       "      <td>11.8</td>\n",
       "      <td>4.4</td>\n",
       "    </tr>\n",
       "    <tr>\n",
       "      <th>3767</th>\n",
       "      <td>2023-04-26</td>\n",
       "      <td>15.0</td>\n",
       "      <td>20.2</td>\n",
       "      <td>10.1</td>\n",
       "      <td>NaN</td>\n",
       "    </tr>\n",
       "    <tr>\n",
       "      <th>3768</th>\n",
       "      <td>2023-04-27</td>\n",
       "      <td>14.1</td>\n",
       "      <td>17.8</td>\n",
       "      <td>10.6</td>\n",
       "      <td>NaN</td>\n",
       "    </tr>\n",
       "  </tbody>\n",
       "</table>\n",
       "</div>"
      ],
      "text/plain": [
       "           year  avgTemp  maxTemp  minTemp  rainFall\n",
       "3764 2023-04-23     15.3     18.8     13.1       NaN\n",
       "3765 2023-04-24     13.8     15.4     12.0       2.2\n",
       "3766 2023-04-25     12.9     13.9     11.8       4.4\n",
       "3767 2023-04-26     15.0     20.2     10.1       NaN\n",
       "3768 2023-04-27     14.1     17.8     10.6       NaN"
      ]
     },
     "execution_count": 4,
     "metadata": {},
     "output_type": "execute_result"
    }
   ],
   "source": [
    "df1.tail()"
   ]
  },
  {
   "cell_type": "code",
   "execution_count": 5,
   "id": "327fb9c6",
   "metadata": {},
   "outputs": [
    {
     "data": {
      "text/html": [
       "<div>\n",
       "<style scoped>\n",
       "    .dataframe tbody tr th:only-of-type {\n",
       "        vertical-align: middle;\n",
       "    }\n",
       "\n",
       "    .dataframe tbody tr th {\n",
       "        vertical-align: top;\n",
       "    }\n",
       "\n",
       "    .dataframe thead th {\n",
       "        text-align: right;\n",
       "    }\n",
       "</style>\n",
       "<table border=\"1\" class=\"dataframe\">\n",
       "  <thead>\n",
       "    <tr style=\"text-align: right;\">\n",
       "      <th></th>\n",
       "      <th>year</th>\n",
       "      <th>avgTemp</th>\n",
       "      <th>maxTemp</th>\n",
       "      <th>minTemp</th>\n",
       "      <th>rainFall</th>\n",
       "    </tr>\n",
       "  </thead>\n",
       "  <tbody>\n",
       "    <tr>\n",
       "      <th>0</th>\n",
       "      <td>2013-01-01</td>\n",
       "      <td>7.2</td>\n",
       "      <td>10.7</td>\n",
       "      <td>3.5</td>\n",
       "      <td>0.0</td>\n",
       "    </tr>\n",
       "    <tr>\n",
       "      <th>1</th>\n",
       "      <td>2013-01-02</td>\n",
       "      <td>6.2</td>\n",
       "      <td>10.9</td>\n",
       "      <td>1.3</td>\n",
       "      <td>0.0</td>\n",
       "    </tr>\n",
       "    <tr>\n",
       "      <th>2</th>\n",
       "      <td>2013-01-03</td>\n",
       "      <td>2.3</td>\n",
       "      <td>5.5</td>\n",
       "      <td>0.1</td>\n",
       "      <td>0.0</td>\n",
       "    </tr>\n",
       "    <tr>\n",
       "      <th>3</th>\n",
       "      <td>2013-01-04</td>\n",
       "      <td>3.4</td>\n",
       "      <td>6.7</td>\n",
       "      <td>0.3</td>\n",
       "      <td>0.0</td>\n",
       "    </tr>\n",
       "    <tr>\n",
       "      <th>4</th>\n",
       "      <td>2013-01-05</td>\n",
       "      <td>5.1</td>\n",
       "      <td>8.8</td>\n",
       "      <td>2.5</td>\n",
       "      <td>0.0</td>\n",
       "    </tr>\n",
       "    <tr>\n",
       "      <th>...</th>\n",
       "      <td>...</td>\n",
       "      <td>...</td>\n",
       "      <td>...</td>\n",
       "      <td>...</td>\n",
       "      <td>...</td>\n",
       "    </tr>\n",
       "    <tr>\n",
       "      <th>3764</th>\n",
       "      <td>2023-04-23</td>\n",
       "      <td>15.3</td>\n",
       "      <td>18.8</td>\n",
       "      <td>13.1</td>\n",
       "      <td>0.0</td>\n",
       "    </tr>\n",
       "    <tr>\n",
       "      <th>3765</th>\n",
       "      <td>2023-04-24</td>\n",
       "      <td>13.8</td>\n",
       "      <td>15.4</td>\n",
       "      <td>12.0</td>\n",
       "      <td>2.2</td>\n",
       "    </tr>\n",
       "    <tr>\n",
       "      <th>3766</th>\n",
       "      <td>2023-04-25</td>\n",
       "      <td>12.9</td>\n",
       "      <td>13.9</td>\n",
       "      <td>11.8</td>\n",
       "      <td>4.4</td>\n",
       "    </tr>\n",
       "    <tr>\n",
       "      <th>3767</th>\n",
       "      <td>2023-04-26</td>\n",
       "      <td>15.0</td>\n",
       "      <td>20.2</td>\n",
       "      <td>10.1</td>\n",
       "      <td>0.0</td>\n",
       "    </tr>\n",
       "    <tr>\n",
       "      <th>3768</th>\n",
       "      <td>2023-04-27</td>\n",
       "      <td>14.1</td>\n",
       "      <td>17.8</td>\n",
       "      <td>10.6</td>\n",
       "      <td>0.0</td>\n",
       "    </tr>\n",
       "  </tbody>\n",
       "</table>\n",
       "<p>3769 rows × 5 columns</p>\n",
       "</div>"
      ],
      "text/plain": [
       "           year  avgTemp  maxTemp  minTemp  rainFall\n",
       "0    2013-01-01      7.2     10.7      3.5       0.0\n",
       "1    2013-01-02      6.2     10.9      1.3       0.0\n",
       "2    2013-01-03      2.3      5.5      0.1       0.0\n",
       "3    2013-01-04      3.4      6.7      0.3       0.0\n",
       "4    2013-01-05      5.1      8.8      2.5       0.0\n",
       "...         ...      ...      ...      ...       ...\n",
       "3764 2023-04-23     15.3     18.8     13.1       0.0\n",
       "3765 2023-04-24     13.8     15.4     12.0       2.2\n",
       "3766 2023-04-25     12.9     13.9     11.8       4.4\n",
       "3767 2023-04-26     15.0     20.2     10.1       0.0\n",
       "3768 2023-04-27     14.1     17.8     10.6       0.0\n",
       "\n",
       "[3769 rows x 5 columns]"
      ]
     },
     "execution_count": 5,
     "metadata": {},
     "output_type": "execute_result"
    }
   ],
   "source": [
    "df1.fillna(0)"
   ]
  },
  {
   "cell_type": "code",
   "execution_count": 8,
   "id": "fefc5ce7",
   "metadata": {},
   "outputs": [
    {
     "data": {
      "text/html": [
       "<div>\n",
       "<style scoped>\n",
       "    .dataframe tbody tr th:only-of-type {\n",
       "        vertical-align: middle;\n",
       "    }\n",
       "\n",
       "    .dataframe tbody tr th {\n",
       "        vertical-align: top;\n",
       "    }\n",
       "\n",
       "    .dataframe thead th {\n",
       "        text-align: right;\n",
       "    }\n",
       "</style>\n",
       "<table border=\"1\" class=\"dataframe\">\n",
       "  <thead>\n",
       "    <tr style=\"text-align: right;\">\n",
       "      <th></th>\n",
       "      <th>year</th>\n",
       "      <th>avgTemp</th>\n",
       "      <th>maxTemp</th>\n",
       "      <th>minTemp</th>\n",
       "      <th>rainFall</th>\n",
       "    </tr>\n",
       "  </thead>\n",
       "  <tbody>\n",
       "    <tr>\n",
       "      <th>0</th>\n",
       "      <td>2013-01-01</td>\n",
       "      <td>7.2</td>\n",
       "      <td>10.7</td>\n",
       "      <td>3.5</td>\n",
       "      <td>0.0</td>\n",
       "    </tr>\n",
       "    <tr>\n",
       "      <th>1</th>\n",
       "      <td>2013-01-02</td>\n",
       "      <td>6.2</td>\n",
       "      <td>10.9</td>\n",
       "      <td>1.3</td>\n",
       "      <td>0.0</td>\n",
       "    </tr>\n",
       "    <tr>\n",
       "      <th>2</th>\n",
       "      <td>2013-01-03</td>\n",
       "      <td>2.3</td>\n",
       "      <td>5.5</td>\n",
       "      <td>0.1</td>\n",
       "      <td>0.0</td>\n",
       "    </tr>\n",
       "    <tr>\n",
       "      <th>3</th>\n",
       "      <td>2013-01-04</td>\n",
       "      <td>3.4</td>\n",
       "      <td>6.7</td>\n",
       "      <td>0.3</td>\n",
       "      <td>0.0</td>\n",
       "    </tr>\n",
       "    <tr>\n",
       "      <th>4</th>\n",
       "      <td>2013-01-05</td>\n",
       "      <td>5.1</td>\n",
       "      <td>8.8</td>\n",
       "      <td>2.5</td>\n",
       "      <td>0.0</td>\n",
       "    </tr>\n",
       "  </tbody>\n",
       "</table>\n",
       "</div>"
      ],
      "text/plain": [
       "        year  avgTemp  maxTemp  minTemp  rainFall\n",
       "0 2013-01-01      7.2     10.7      3.5       0.0\n",
       "1 2013-01-02      6.2     10.9      1.3       0.0\n",
       "2 2013-01-03      2.3      5.5      0.1       0.0\n",
       "3 2013-01-04      3.4      6.7      0.3       0.0\n",
       "4 2013-01-05      5.1      8.8      2.5       0.0"
      ]
     },
     "execution_count": 8,
     "metadata": {},
     "output_type": "execute_result"
    }
   ],
   "source": [
    "df1_new=df1.fillna(0)\n",
    "df1_new.head()"
   ]
  },
  {
   "cell_type": "code",
   "execution_count": 18,
   "id": "445e4335",
   "metadata": {},
   "outputs": [],
   "source": [
    "df1_new.to_excel(excel_writer = 'c:/tangerine_price_prediction/day_data.xlsx')"
   ]
  },
  {
   "cell_type": "code",
   "execution_count": 15,
   "id": "9c7ef84e",
   "metadata": {},
   "outputs": [
    {
     "name": "stdout",
     "output_type": "stream",
     "text": [
      "                     year  avgTemp  maxTemp  minTemp  rainFall  avgPrice\n",
      "0     2013-01-01 00:00:00      7.2     10.7      3.5       0.0       NaN\n",
      "1     2013-01-02 00:00:00      6.2     10.9      1.3       0.0       NaN\n",
      "2     2013-01-03 00:00:00      2.3      5.5      0.1       0.0       NaN\n",
      "3     2013-01-04 00:00:00      3.4      6.7      0.3       0.0       NaN\n",
      "4     2013-01-05 00:00:00      5.1      8.8      2.5       0.0       NaN\n",
      "...                   ...      ...      ...      ...       ...       ...\n",
      "1091                45008      NaN      NaN      NaN       NaN    7144.0\n",
      "1092                45009      NaN      NaN      NaN       NaN    7036.0\n",
      "1093                45012      NaN      NaN      NaN       NaN    6941.0\n",
      "1094                45013      NaN      NaN      NaN       NaN    6941.0\n",
      "1095                45014      NaN      NaN      NaN       NaN    7356.0\n",
      "\n",
      "[4865 rows x 6 columns]\n"
     ]
    }
   ],
   "source": [
    "df_merge1 = pd.concat([df1_new, df2], join=\"outer\")\n",
    "print(df_merge1)"
   ]
  },
  {
   "cell_type": "code",
   "execution_count": 18,
   "id": "4f0ab970",
   "metadata": {},
   "outputs": [],
   "source": [
    "df_merge1.to_excel(excel_writer = 'c:/tangerine_price_prediction/innerjoin.xlsx')"
   ]
  },
  {
   "cell_type": "code",
   "execution_count": 20,
   "id": "80473be0",
   "metadata": {},
   "outputs": [
    {
     "name": "stdout",
     "output_type": "stream",
     "text": [
      "           year  avgTemp  maxTemp  minTemp  rainFall avgPrice\n",
      "0    2013-01-02      6.2     10.9      1.3       0.0    2,434\n",
      "1    2013-01-03      2.3      5.5      0.1       0.0    2,501\n",
      "2    2013-01-04      3.4      6.7      0.3       0.0    2,483\n",
      "3    2013-01-07      6.6      8.6      3.8       0.0    2,491\n",
      "4    2013-01-08      7.9     10.8      5.1       0.0    2,491\n",
      "...         ...      ...      ...      ...       ...      ...\n",
      "1091 2023-03-23     17.4     19.3     16.5       1.9    7,144\n",
      "1092 2023-03-24     14.7     16.8     12.6      11.4    7,036\n",
      "1093 2023-03-27     13.0     16.9     10.1       0.0    6,941\n",
      "1094 2023-03-28     13.9     18.2      9.4       0.0    6,941\n",
      "1095 2023-03-29     14.2     18.1     11.0       0.0    7,356\n",
      "\n",
      "[1096 rows x 6 columns]\n"
     ]
    }
   ],
   "source": [
    "df_merge2 = pd.merge(df1_new, df2)\n",
    "print(df_merge2)"
   ]
  },
  {
   "cell_type": "code",
   "execution_count": 21,
   "id": "ef76ccc8",
   "metadata": {},
   "outputs": [],
   "source": [
    "df_merge2.to_excel(excel_writer = 'c:/tangerine_price_prediction/innerjoin.xlsx')"
   ]
  }
 ],
 "metadata": {
  "kernelspec": {
   "display_name": "Python 3 (ipykernel)",
   "language": "python",
   "name": "python3"
  },
  "language_info": {
   "codemirror_mode": {
    "name": "ipython",
    "version": 3
   },
   "file_extension": ".py",
   "mimetype": "text/x-python",
   "name": "python",
   "nbconvert_exporter": "python",
   "pygments_lexer": "ipython3",
   "version": "3.10.9"
  }
 },
 "nbformat": 4,
 "nbformat_minor": 5
}
