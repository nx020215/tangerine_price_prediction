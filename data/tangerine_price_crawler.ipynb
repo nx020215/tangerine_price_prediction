{
 "cells": [
  {
   "cell_type": "code",
   "execution_count": 12,
   "id": "149b7615",
   "metadata": {},
   "outputs": [
    {
     "name": "stdout",
     "output_type": "stream",
     "text": [
      "Defaulting to user installation because normal site-packages is not writeable\n",
      "Requirement already satisfied: selenium in c:\\users\\user\\appdata\\roaming\\python\\python310\\site-packages (4.9.1)\n",
      "Requirement already satisfied: trio~=0.17 in c:\\users\\user\\appdata\\roaming\\python\\python310\\site-packages (from selenium) (0.22.0)\n",
      "Requirement already satisfied: trio-websocket~=0.9 in c:\\users\\user\\appdata\\roaming\\python\\python310\\site-packages (from selenium) (0.10.2)\n",
      "Requirement already satisfied: certifi>=2021.10.8 in c:\\programdata\\anaconda3\\lib\\site-packages (from selenium) (2022.12.7)\n",
      "Requirement already satisfied: urllib3[socks]<3,>=1.26 in c:\\programdata\\anaconda3\\lib\\site-packages (from selenium) (1.26.14)\n",
      "Requirement already satisfied: attrs>=19.2.0 in c:\\programdata\\anaconda3\\lib\\site-packages (from trio~=0.17->selenium) (22.1.0)\n",
      "Requirement already satisfied: idna in c:\\programdata\\anaconda3\\lib\\site-packages (from trio~=0.17->selenium) (3.4)\n",
      "Requirement already satisfied: outcome in c:\\users\\user\\appdata\\roaming\\python\\python310\\site-packages (from trio~=0.17->selenium) (1.2.0)\n",
      "Requirement already satisfied: async-generator>=1.9 in c:\\users\\user\\appdata\\roaming\\python\\python310\\site-packages (from trio~=0.17->selenium) (1.10)\n",
      "Requirement already satisfied: cffi>=1.14 in c:\\programdata\\anaconda3\\lib\\site-packages (from trio~=0.17->selenium) (1.15.1)\n",
      "Requirement already satisfied: sortedcontainers in c:\\programdata\\anaconda3\\lib\\site-packages (from trio~=0.17->selenium) (2.4.0)\n",
      "Requirement already satisfied: exceptiongroup>=1.0.0rc9 in c:\\users\\user\\appdata\\roaming\\python\\python310\\site-packages (from trio~=0.17->selenium) (1.1.1)\n",
      "Requirement already satisfied: sniffio in c:\\programdata\\anaconda3\\lib\\site-packages (from trio~=0.17->selenium) (1.2.0)\n",
      "Requirement already satisfied: wsproto>=0.14 in c:\\users\\user\\appdata\\roaming\\python\\python310\\site-packages (from trio-websocket~=0.9->selenium) (1.2.0)\n",
      "Requirement already satisfied: PySocks!=1.5.7,<2.0,>=1.5.6 in c:\\programdata\\anaconda3\\lib\\site-packages (from urllib3[socks]<3,>=1.26->selenium) (1.7.1)\n",
      "Requirement already satisfied: pycparser in c:\\programdata\\anaconda3\\lib\\site-packages (from cffi>=1.14->trio~=0.17->selenium) (2.21)\n",
      "Requirement already satisfied: h11<1,>=0.9.0 in c:\\users\\user\\appdata\\roaming\\python\\python310\\site-packages (from wsproto>=0.14->trio-websocket~=0.9->selenium) (0.14.0)\n",
      "Note: you may need to restart the kernel to use updated packages.\n"
     ]
    }
   ],
   "source": [
    "pip install selenium\n"
   ]
  },
  {
   "cell_type": "code",
   "execution_count": 13,
   "id": "b1443a6f",
   "metadata": {},
   "outputs": [],
   "source": [
    "from selenium import webdriver\n",
    "\n",
    "# Configure Chrome webdriver\n",
    "options = webdriver.ChromeOptions()\n",
    "# Add any desired options or configurations\n",
    "# ...\n",
    "\n",
    "# Initialize Chrome webdriver\n",
    "driver = webdriver.Chrome(options=options)\n"
   ]
  },
  {
   "cell_type": "code",
   "execution_count": 14,
   "id": "9e0ae203",
   "metadata": {},
   "outputs": [
    {
     "name": "stdout",
     "output_type": "stream",
     "text": [
      "Defaulting to user installation because normal site-packages is not writeable\n",
      "Requirement already satisfied: chromedriver-autoinstaller in c:\\users\\user\\appdata\\roaming\\python\\python310\\site-packages (0.4.0)\n",
      "Note: you may need to restart the kernel to use updated packages.\n"
     ]
    }
   ],
   "source": [
    "pip install chromedriver-autoinstaller\n"
   ]
  },
  {
   "cell_type": "code",
   "execution_count": 15,
   "id": "e11ff711",
   "metadata": {},
   "outputs": [
    {
     "name": "stdout",
     "output_type": "stream",
     "text": [
      "113\n"
     ]
    }
   ],
   "source": [
    "from selenium import webdriver\n",
    "import chromedriver_autoinstaller\n",
    "import time\n",
    "import pandas as pd\n",
    "from selenium.webdriver.common.keys import Keys\n",
    "from selenium.webdriver.common.by import By\n",
    "\n",
    "chrome_ver = chromedriver_autoinstaller.get_chrome_version().split('.')[0]\n",
    "\n",
    "print(chrome_ver)\n",
    "\n",
    "\n",
    "from selenium.webdriver.support.ui import WebDriverWait\n",
    "from datetime import date"
   ]
  },
  {
   "cell_type": "code",
   "execution_count": 16,
   "id": "30fd9c06",
   "metadata": {},
   "outputs": [],
   "source": [
    "from selenium.webdriver.support.ui import WebDriverWait\n",
    "from selenium.webdriver.support import expected_conditions as EC"
   ]
  },
  {
   "cell_type": "code",
   "execution_count": 17,
   "id": "5b17879a",
   "metadata": {},
   "outputs": [
    {
     "name": "stderr",
     "output_type": "stream",
     "text": [
      "C:\\Users\\USER\\AppData\\Local\\Temp\\ipykernel_7056\\314110993.py:5: DeprecationWarning: executable_path has been deprecated, please pass in a Service object\n",
      "  crawler = webdriver.Chrome(f'./{chrome_ver}/chromedriver.exe')\n"
     ]
    }
   ],
   "source": [
    "from selenium import webdriver\n",
    "import chromedriver_autoinstaller\n",
    "\n",
    "try:\n",
    "    crawler = webdriver.Chrome(f'./{chrome_ver}/chromedriver.exe')\n",
    "except:\n",
    "    chromedriver_autoinstaller.install(True)\n",
    "    crawler = webdriver.Chrome(f'./{chrome_ver}/chromedriver.exe')\n",
    "crawler.implicitly_wait(10)\n",
    "crawler.get('https://www.naver.com')"
   ]
  },
  {
   "cell_type": "code",
   "execution_count": 18,
   "id": "d8fa8bfe",
   "metadata": {},
   "outputs": [],
   "source": [
    "from selenium.common.exceptions import NoSuchElementException\n"
   ]
  },
  {
   "cell_type": "code",
   "execution_count": 21,
   "id": "39c76684",
   "metadata": {},
   "outputs": [
    {
     "name": "stderr",
     "output_type": "stream",
     "text": [
      "C:\\Users\\USER\\AppData\\Local\\Temp\\ipykernel_7056\\4256423575.py:2: DeprecationWarning: executable_path has been deprecated, please pass in a Service object\n",
      "  crawler = webdriver.Chrome(f'./{chrome_ver}/chromedriver.exe') # chromedriver의 경로를 지정하세요.\n"
     ]
    }
   ],
   "source": [
    "\n",
    "#가격정보\n",
    "crawler = webdriver.Chrome(f'./{chrome_ver}/chromedriver.exe') # chromedriver의 경로를 지정하세요.\n",
    "# 웹 페이지 접속\n",
    "crawler.get('https://www.kamis.or.kr/customer/price/wholesale/item.do')\n",
    "#crawler.find_element('xpath','/html/body/header/section[3]/div/div/ul/li[1]/a').click()\n",
    "\n",
    "#부류 : 과일류\n",
    "crawler.find_element('xpath','//*[@id=\"ulitemcategorycode\"]/li[4]/a').click()\n",
    "\n",
    "#품목 : 감귤\n",
    "crawler.find_element('xpath','//*[@id=\"ulitemcode\"]/li[5]/a').click()\n",
    "\n",
    "#품종 : :감귤\n",
    "crawler.find_element('xpath','//*[@id=\"ulkindcode\"]/li[3]/a').click()\n",
    "\n",
    "#등급 : 전체\n",
    "crawler.find_element('xpath','//*[@id=\"ulproductrankcode\"]/li[1]/a').click()\n",
    "\n",
    "#조회하기\n",
    "crawler.find_element('xpath','//*[@id=\"btn_search\"]').click()\n",
    "\n"
   ]
  },
  {
   "cell_type": "code",
   "execution_count": 23,
   "id": "6fd7117e",
   "metadata": {},
   "outputs": [
    {
     "ename": "InvalidElementStateException",
     "evalue": "Message: invalid element state\n  (Session info: chrome=113.0.5672.127)\nStacktrace:\nBacktrace:\n\tGetHandleVerifier [0x01038893+48451]\n\t(No symbol) [0x00FCB8A1]\n\t(No symbol) [0x00ED4F20]\n\t(No symbol) [0x00EFAECA]\n\t(No symbol) [0x00F1A2BC]\n\t(No symbol) [0x00EF9586]\n\t(No symbol) [0x00F1A614]\n\t(No symbol) [0x00F2C482]\n\t(No symbol) [0x00F1A0B6]\n\t(No symbol) [0x00EF7E08]\n\t(No symbol) [0x00EF8F2D]\n\tGetHandleVerifier [0x01298E3A+2540266]\n\tGetHandleVerifier [0x012D8959+2801161]\n\tGetHandleVerifier [0x012D295C+2776588]\n\tGetHandleVerifier [0x010C2280+612144]\n\t(No symbol) [0x00FD4F6C]\n\t(No symbol) [0x00FD11D8]\n\t(No symbol) [0x00FD12BB]\n\t(No symbol) [0x00FC4857]\n\tBaseThreadInitThunk [0x76B57D59+25]\n\tRtlInitializeExceptionChain [0x77D6B74B+107]\n\tRtlClearBits [0x77D6B6CF+191]\n",
     "output_type": "error",
     "traceback": [
      "\u001b[1;31m---------------------------------------------------------------------------\u001b[0m",
      "\u001b[1;31mInvalidElementStateException\u001b[0m              Traceback (most recent call last)",
      "Cell \u001b[1;32mIn[23], line 16\u001b[0m\n\u001b[0;32m     12\u001b[0m \u001b[38;5;66;03m# 종료 날짜 입력\u001b[39;00m\n\u001b[0;32m     13\u001b[0m end_date_input \u001b[38;5;241m=\u001b[39m WebDriverWait(crawler, \u001b[38;5;241m30\u001b[39m)\u001b[38;5;241m.\u001b[39muntil(\n\u001b[0;32m     14\u001b[0m     EC\u001b[38;5;241m.\u001b[39mvisibility_of_element_located((By\u001b[38;5;241m.\u001b[39mXPATH, \u001b[38;5;124m'\u001b[39m\u001b[38;5;124m//input[@id=\u001b[39m\u001b[38;5;124m\"\u001b[39m\u001b[38;5;124mendday\u001b[39m\u001b[38;5;124m\"\u001b[39m\u001b[38;5;124m]\u001b[39m\u001b[38;5;124m'\u001b[39m))\n\u001b[0;32m     15\u001b[0m )\n\u001b[1;32m---> 16\u001b[0m \u001b[43mend_date_input\u001b[49m\u001b[38;5;241;43m.\u001b[39;49m\u001b[43mclear\u001b[49m\u001b[43m(\u001b[49m\u001b[43m)\u001b[49m\n\u001b[0;32m     17\u001b[0m end_date_input\u001b[38;5;241m.\u001b[39msend_keys(\u001b[38;5;124m'\u001b[39m\u001b[38;5;124m2023-5-28\u001b[39m\u001b[38;5;124m'\u001b[39m)\n\u001b[0;32m     19\u001b[0m \u001b[38;5;66;03m# 조회 버튼 클릭\u001b[39;00m\n",
      "File \u001b[1;32m~\\AppData\\Roaming\\Python\\Python310\\site-packages\\selenium\\webdriver\\remote\\webelement.py:117\u001b[0m, in \u001b[0;36mWebElement.clear\u001b[1;34m(self)\u001b[0m\n\u001b[0;32m    115\u001b[0m \u001b[38;5;28;01mdef\u001b[39;00m \u001b[38;5;21mclear\u001b[39m(\u001b[38;5;28mself\u001b[39m) \u001b[38;5;241m-\u001b[39m\u001b[38;5;241m>\u001b[39m \u001b[38;5;28;01mNone\u001b[39;00m:\n\u001b[0;32m    116\u001b[0m     \u001b[38;5;124;03m\"\"\"Clears the text if it's a text entry element.\"\"\"\u001b[39;00m\n\u001b[1;32m--> 117\u001b[0m     \u001b[38;5;28;43mself\u001b[39;49m\u001b[38;5;241;43m.\u001b[39;49m\u001b[43m_execute\u001b[49m\u001b[43m(\u001b[49m\u001b[43mCommand\u001b[49m\u001b[38;5;241;43m.\u001b[39;49m\u001b[43mCLEAR_ELEMENT\u001b[49m\u001b[43m)\u001b[49m\n",
      "File \u001b[1;32m~\\AppData\\Roaming\\Python\\Python310\\site-packages\\selenium\\webdriver\\remote\\webelement.py:403\u001b[0m, in \u001b[0;36mWebElement._execute\u001b[1;34m(self, command, params)\u001b[0m\n\u001b[0;32m    401\u001b[0m     params \u001b[38;5;241m=\u001b[39m {}\n\u001b[0;32m    402\u001b[0m params[\u001b[38;5;124m\"\u001b[39m\u001b[38;5;124mid\u001b[39m\u001b[38;5;124m\"\u001b[39m] \u001b[38;5;241m=\u001b[39m \u001b[38;5;28mself\u001b[39m\u001b[38;5;241m.\u001b[39m_id\n\u001b[1;32m--> 403\u001b[0m \u001b[38;5;28;01mreturn\u001b[39;00m \u001b[38;5;28;43mself\u001b[39;49m\u001b[38;5;241;43m.\u001b[39;49m\u001b[43m_parent\u001b[49m\u001b[38;5;241;43m.\u001b[39;49m\u001b[43mexecute\u001b[49m\u001b[43m(\u001b[49m\u001b[43mcommand\u001b[49m\u001b[43m,\u001b[49m\u001b[43m \u001b[49m\u001b[43mparams\u001b[49m\u001b[43m)\u001b[49m\n",
      "File \u001b[1;32m~\\AppData\\Roaming\\Python\\Python310\\site-packages\\selenium\\webdriver\\remote\\webdriver.py:440\u001b[0m, in \u001b[0;36mWebDriver.execute\u001b[1;34m(self, driver_command, params)\u001b[0m\n\u001b[0;32m    438\u001b[0m response \u001b[38;5;241m=\u001b[39m \u001b[38;5;28mself\u001b[39m\u001b[38;5;241m.\u001b[39mcommand_executor\u001b[38;5;241m.\u001b[39mexecute(driver_command, params)\n\u001b[0;32m    439\u001b[0m \u001b[38;5;28;01mif\u001b[39;00m response:\n\u001b[1;32m--> 440\u001b[0m     \u001b[38;5;28;43mself\u001b[39;49m\u001b[38;5;241;43m.\u001b[39;49m\u001b[43merror_handler\u001b[49m\u001b[38;5;241;43m.\u001b[39;49m\u001b[43mcheck_response\u001b[49m\u001b[43m(\u001b[49m\u001b[43mresponse\u001b[49m\u001b[43m)\u001b[49m\n\u001b[0;32m    441\u001b[0m     response[\u001b[38;5;124m\"\u001b[39m\u001b[38;5;124mvalue\u001b[39m\u001b[38;5;124m\"\u001b[39m] \u001b[38;5;241m=\u001b[39m \u001b[38;5;28mself\u001b[39m\u001b[38;5;241m.\u001b[39m_unwrap_value(response\u001b[38;5;241m.\u001b[39mget(\u001b[38;5;124m\"\u001b[39m\u001b[38;5;124mvalue\u001b[39m\u001b[38;5;124m\"\u001b[39m, \u001b[38;5;28;01mNone\u001b[39;00m))\n\u001b[0;32m    442\u001b[0m     \u001b[38;5;28;01mreturn\u001b[39;00m response\n",
      "File \u001b[1;32m~\\AppData\\Roaming\\Python\\Python310\\site-packages\\selenium\\webdriver\\remote\\errorhandler.py:245\u001b[0m, in \u001b[0;36mErrorHandler.check_response\u001b[1;34m(self, response)\u001b[0m\n\u001b[0;32m    243\u001b[0m         alert_text \u001b[38;5;241m=\u001b[39m value[\u001b[38;5;124m\"\u001b[39m\u001b[38;5;124malert\u001b[39m\u001b[38;5;124m\"\u001b[39m]\u001b[38;5;241m.\u001b[39mget(\u001b[38;5;124m\"\u001b[39m\u001b[38;5;124mtext\u001b[39m\u001b[38;5;124m\"\u001b[39m)\n\u001b[0;32m    244\u001b[0m     \u001b[38;5;28;01mraise\u001b[39;00m exception_class(message, screen, stacktrace, alert_text)  \u001b[38;5;66;03m# type: ignore[call-arg]  # mypy is not smart enough here\u001b[39;00m\n\u001b[1;32m--> 245\u001b[0m \u001b[38;5;28;01mraise\u001b[39;00m exception_class(message, screen, stacktrace)\n",
      "\u001b[1;31mInvalidElementStateException\u001b[0m: Message: invalid element state\n  (Session info: chrome=113.0.5672.127)\nStacktrace:\nBacktrace:\n\tGetHandleVerifier [0x01038893+48451]\n\t(No symbol) [0x00FCB8A1]\n\t(No symbol) [0x00ED4F20]\n\t(No symbol) [0x00EFAECA]\n\t(No symbol) [0x00F1A2BC]\n\t(No symbol) [0x00EF9586]\n\t(No symbol) [0x00F1A614]\n\t(No symbol) [0x00F2C482]\n\t(No symbol) [0x00F1A0B6]\n\t(No symbol) [0x00EF7E08]\n\t(No symbol) [0x00EF8F2D]\n\tGetHandleVerifier [0x01298E3A+2540266]\n\tGetHandleVerifier [0x012D8959+2801161]\n\tGetHandleVerifier [0x012D295C+2776588]\n\tGetHandleVerifier [0x010C2280+612144]\n\t(No symbol) [0x00FD4F6C]\n\t(No symbol) [0x00FD11D8]\n\t(No symbol) [0x00FD12BB]\n\t(No symbol) [0x00FC4857]\n\tBaseThreadInitThunk [0x76B57D59+25]\n\tRtlInitializeExceptionChain [0x77D6B74B+107]\n\tRtlClearBits [0x77D6B6CF+191]\n"
     ]
    }
   ],
   "source": [
    "\n",
    "# 현재 날짜 가져오기\n",
    "today = date.today()\n",
    "current_date = today.strftime('%Y-%m-%d')\n",
    "\n",
    "# 시작 날짜 입력\n",
    "start_date_input = WebDriverWait(driver, 30).until(\n",
    "    EC.visibility_of_element_located((By.XPATH, '//input[@id=\"regday\"]'))\n",
    ")\n",
    "start_date_input.clear()\n",
    "start_date_input.send_keys('2013-01-02')\n",
    "\n",
    "# 종료 날짜 입력\n",
    "end_date_input = WebDriverWait(crawler, 30).until(\n",
    "    EC.visibility_of_element_located((By.XPATH, '//input[@id=\"endday\"]'))\n",
    ")\n",
    "end_date_input.clear()\n",
    "end_date_input.send_keys('2023-5-28')\n",
    "\n",
    "# 조회 버튼 클릭\n",
    "search_button = WebDriverWait(crawler, 30).until(\n",
    "    EC.visibility_of_element_located((By.XPATH, '//button[@id=\"btnSearch\"]'))\n",
    ")\n",
    "search_button.click()\n",
    "\n",
    "# 데이터 테이블 로드 대기 (5초)\n",
    "table = WebDriverWait(crawler, 30).until(\n",
    "   EC.visibility_of_element_located((By.XPATH, '//table[@class=\"table2\"]'))\n",
    ")\n",
    "\n",
    "# 데이터 추출\n",
    "rows = table.find_elements_by_tag_name('tr')\n",
    "for row in rows:\n",
    "    columns = row.find_elements_by_tag_name('td')\n",
    "    if len(columns) == 4:  # 데이터 행인 경우\n",
    "        date = columns[0].text\n",
    "        price = columns[2].text\n",
    "        print(date, price)\n"
   ]
  },
  {
   "cell_type": "code",
   "execution_count": null,
   "id": "3a32f880",
   "metadata": {},
   "outputs": [],
   "source": []
  }
 ],
 "metadata": {
  "kernelspec": {
   "display_name": "Python 3 (ipykernel)",
   "language": "python",
   "name": "python3"
  },
  "language_info": {
   "codemirror_mode": {
    "name": "ipython",
    "version": 3
   },
   "file_extension": ".py",
   "mimetype": "text/x-python",
   "name": "python",
   "nbconvert_exporter": "python",
   "pygments_lexer": "ipython3",
   "version": "3.10.9"
  }
 },
 "nbformat": 4,
 "nbformat_minor": 5
}
