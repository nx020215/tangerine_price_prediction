{
  "cells": [
    {
      "cell_type": "code",
      "execution_count": 3,
      "id": "a2a1be1d",
      "metadata": {
        "id": "a2a1be1d"
      },
      "outputs": [],
      "source": [
        "from sklearn.utils import shuffle\n",
        "import numpy as np\n",
        "\n",
        "# git fetch test\n",
        "\n",
        "class LinearRegressionGD():\n",
        "    def __init__(self, fit_intercept=True, copy_X=True,\n",
        "                 eta0=0.001, epochs=1000, batch_size = 1, \n",
        "                 weight_decay=0.9, shuffle = True):\n",
        "        self.fit_intercept = fit_intercept\n",
        "        self.copy_X = copy_X\n",
        "        self._eta0 = eta0\n",
        "        self._epochs = epochs\n",
        "\n",
        "        self._cost_history = []\n",
        "\n",
        "        self._coef = None\n",
        "        self._intercept = None\n",
        "        self._new_X = None\n",
        "        self._w_history = None\n",
        "        self._weight_decay = weight_decay\n",
        "        self._batch_size = batch_size\n",
        "        self._is_SGD = shuffle\n",
        "\n",
        "    def gradient(self, X, y, theta):\n",
        "        return X.T.dot(self.hypothesis_function(X, theta)-y) / len(X)\n",
        "\n",
        "    def fit(self, X, y):\n",
        "        self._new_X = np.array(X)  # X 데이터 할당\n",
        "        y = y.reshape(-1, 1)\n",
        "\n",
        "        if self.fit_intercept:    # intercept 추가 여부\n",
        "            # 1로만 구성된 상수항을 모든 데이터를 추가\n",
        "            intercept_vector = np.ones([len(self._new_X), 1])\n",
        "            self._new_X = np.concatenate(\n",
        "                    (intercept_vector, self._new_X), axis=1)\n",
        "\n",
        "        theta_init = np.random.normal(0, 1, self._new_X.shape[1])         \n",
        "        # weight값 초기화\n",
        "        self._w_history = [theta_init]\n",
        "        self._cost_history = [self.cost(\n",
        "                        self.hypothesis_function(self._new_X, theta_init), y)]\n",
        "\n",
        "        theta = theta_init\n",
        "\n",
        "        for epoch in range(self._epochs): # 지정된 epoch의 값만큼 학습 실행\n",
        "            X_copy = np.copy(self._new_X)\n",
        "\n",
        "            if self._is_SGD:   # stochastic 적용 여부\n",
        "                np.random.shuffle(X_copy)\n",
        "\n",
        "            batch = len(X_copy) // self._batch_size \n",
        "            # batch 사이즈를 기준으로 전체데이터를 나눔\n",
        "\n",
        "            for batch_count  in range(batch):\n",
        "                X_batch = np.copy(   # BATCH 사이즈를 기준으로 데이터를 slice\n",
        "                            X_copy[batch_count * self._batch_size : (batch_count+1) * self._batch_size])\n",
        "                y_batch = y[batch_count * self._batch_size : (batch_count+1) * self._batch_size]\n",
        "                gradient = self.gradient(X_batch  , y_batch, theta).flatten()\n",
        "                theta = theta - self._eta0 * gradient\n",
        "\n",
        "            if epoch % 100 == 0:\n",
        "                self._w_history.append(theta)\n",
        "                cost = self.cost(\n",
        "                    self.hypothesis_function(self._new_X, theta), y)\n",
        "                self._cost_history.append(cost)\n",
        "            self._eta0 = self._eta0 * self._weight_decay\n",
        "\n",
        "        if self.fit_intercept:\n",
        "            self._intercept = theta[0]\n",
        "            self._coef = theta[1:]\n",
        "        else:\n",
        "            self._coef = theta\n",
        "\n",
        "    def cost(self, h, y):\n",
        "        return 1/(2*len(y)) * np.sum((h-y).flatten() ** 2)\n",
        "\n",
        "    def hypothesis_function(self, X, theta):\n",
        "        return X.dot(theta).reshape(-1, 1)\n",
        "\n",
        "\n",
        "    def predict(self, X):\n",
        "        test_X = np.array(X)\n",
        "\n",
        "        if self.fit_intercept:\n",
        "            intercept_vector = np.ones([len(test_X), 1])\n",
        "            test_X = np.concatenate(\n",
        "                    (intercept_vector, test_X), axis=1)\n",
        "\n",
        "            weights = np.concatenate(([self._intercept], self._coef), axis=0)\n",
        "        else:\n",
        "            weights = self._coef\n",
        "\n",
        "        return test_X.dot(weights)\n",
        "\n",
        "    @property\n",
        "    def coef(self):\n",
        "        return self._coef\n",
        "\n",
        "    @property\n",
        "    def intercept(self):\n",
        "        return self._intercept\n",
        "\n",
        "    @property\n",
        "    def weights_history(self):\n",
        "        return np.array(self._w_history)\n",
        "\n",
        "    @property\n",
        "    def cost_history(self):\n",
        "        return self._cost_history"
      ]
    },
    {
      "cell_type": "code",
      "execution_count": 19,
      "id": "969b81c4",
      "metadata": {
        "id": "969b81c4"
      },
      "outputs": [],
      "source": [
        "import pandas as pd\n",
        "import numpy as np\n",
        "\n",
        "df = pd.read_csv(\"train.csv\")\n",
        "\n",
        "X = df[\"x\"].values.reshape(-1,1)\n",
        "y = df[\"y\"].values\n",
        "\n",
        "bgd_lr = LinearRegressionGD(eta0=0.001, epochs=1000, batch_size=200, shuffle=False)\n",
        "sgd_lr = LinearRegressionGD(eta0=0.001, epochs=1000, batch_size=200, shuffle=True)\n"
      ]
    },
    {
      "cell_type": "code",
      "execution_count": 20,
      "id": "67b2bc2e",
      "metadata": {
        "colab": {
          "base_uri": "https://localhost:8080/"
        },
        "id": "67b2bc2e",
        "outputId": "124afe55-a743-48aa-9b5e-a12e391e8758"
      },
      "outputs": [
        {
          "name": "stdout",
          "output_type": "stream",
          "text": [
            "(700,)\n"
          ]
        }
      ],
      "source": [
        "print(y.shape)\n",
        "bgd_lr.fit(X, y)\n",
        "sgd_lr.fit(X,y)"
      ]
    },
    {
      "cell_type": "code",
      "execution_count": 21,
      "id": "dd8de4a7",
      "metadata": {
        "colab": {
          "base_uri": "https://localhost:8080/",
          "height": 449
        },
        "id": "dd8de4a7",
        "outputId": "a3b58806-418b-4d1e-9f32-6902d8e36a0c"
      },
      "outputs": [
        {
          "data": {
            "text/plain": [
              "[<matplotlib.lines.Line2D at 0x7f15bcb702b0>]"
            ]
          },
          "execution_count": 21,
          "metadata": {},
          "output_type": "execute_result"
        },
        {
          "data": {
            "image/png": "[encoded data removed]",
            "text/plain": [
              "<Figure size 640x480 with 1 Axes>"
            ]
          },
          "metadata": {},
          "output_type": "display_data"
        }
      ],
      "source": [
        "import matplotlib.pyplot as plt\n",
        "\n",
        "plt.plot(range(len(bgd_lr.cost_history)), bgd_lr.cost_history, c=\"y\")\n",
        "plt.plot(range(len(sgd_lr.cost_history)), sgd_lr.cost_history, c=\"g\")\n"
      ]
    },
    {
      "cell_type": "code",
      "execution_count": 4,
      "id": "69123e35",
      "metadata": {
        "id": "69123e35"
      },
      "outputs": [],
      "source": []
    }
  ],
  "metadata": {
    "colab": {
      "provenance": []
    },
    "kernelspec": {
      "display_name": "Python 3 (ipykernel)",
      "language": "python",
      "name": "python3"
    },
    "language_info": {
      "codemirror_mode": {
        "name": "ipython",
        "version": 3
      },
      "file_extension": ".py",
      "mimetype": "text/x-python",
      "name": "python",
      "nbconvert_exporter": "python",
      "pygments_lexer": "ipython3",
      "version": "3.9.7"
    }
  },
  "nbformat": 4,
  "nbformat_minor": 5
}
